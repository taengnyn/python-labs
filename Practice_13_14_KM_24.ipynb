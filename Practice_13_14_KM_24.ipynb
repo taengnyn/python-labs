{
  "cells": [
    {
      "cell_type": "markdown",
      "metadata": {
        "id": "FMqboNwO4rVs"
      },
      "source": [
        "# **Курс \"Програмування на мові Python\"**"
      ]
    },
    {
      "cell_type": "markdown",
      "metadata": {
        "id": "A2T6MigL5Z06"
      },
      "source": [
        "## **Практичні зайняття №13-14**\n",
        "\n",
        "### Тема: \"Робота з файлами. Робота зі спеціальними форматами файлів\""
      ]
    },
    {
      "cell_type": "markdown",
      "metadata": {
        "id": "cfCdgK2zXm7e"
      },
      "source": [
        "### **Завдання 1 (1,5 бали)**\n",
        "\n",
        "У 1939 році друком вийшов роман американського письменика Ернеста Вінсента Райта \"Ґетсбі\". Особливу увагу публіки він здобув через те, що письменник жодного разу не використав у романі літеру \"e\" (роман складається з більше ніж 50,000 слів), яка є найбільш вживаною літерою в англійській мові.\n",
        "\n",
        "Порахуйте кількість входжень кожної літери у текст роману. Виведіть список літер англійського алфавіту, а також інформацію про те, скільки відсотків від усіх літер тексту складає кожна літера алфавіту.\n",
        "\n",
        "Зауваження:\n",
        "\n",
        "1. Програма має ігнорувати будь-які символи, окрім літер.\n",
        "\n",
        "2. Переведіть усі літери у верхній або у нижній регістр.\n",
        "\n",
        "3. Під час виведення відсортуйте літери у порядку зменшення їхнього відсотка. Літера \"e\" має стояти на останньому місці у цьому списку (хоча кілька літер e там все ж таки зустрічається).\n",
        "\n",
        "4. Виведіть перші 5 та останні 5 літер відсортованого списку разом з відсотковими значеннями, що їм відповідають. Відсотки округліть до тисячних."
      ]
    },
    {
      "cell_type": "code",
      "execution_count": 1,
      "metadata": {
        "id": "u4-fHJJ6U462",
        "tags": []
      },
      "outputs": [
        {
          "name": "stdout",
          "output_type": "stream",
          "text": [
            "{'a': 279952, 'b': 279952, 'c': 279952, 'd': 279952, 'e': 279952, 'f': 279952, 'g': 279952, 'h': 279952, 'i': 279952, 'j': 279952, 'k': 279952, 'l': 279952, 'm': 279952, 'n': 279952, 'o': 279952, 'p': 279952, 'q': 279952, 'r': 279952, 's': 279952, 't': 279952, 'u': 279952, 'v': 279952, 'w': 279952, 'x': 279952, 'y': 279952, 'z': 279952}\n",
            "a:3.846%\n",
            "b:3.846%\n",
            "c:3.846%\n",
            "d:3.846%\n",
            "e:3.846%\n",
            "\n",
            "v:3.846%\n",
            "w:3.846%\n",
            "x:3.846%\n",
            "y:3.846%\n",
            "z:3.846%\n"
          ]
        }
      ],
      "source": [
        "all_letters = {\n",
        "    'a': 0, 'b': 0, 'c': 0, 'd': 0, 'e': 0, 'f': 0, 'g': 0, 'h': 0,\n",
        "    'i': 0, 'j': 0, 'k': 0, 'l': 0, 'm': 0, 'n': 0, 'o': 0, 'p': 0,\n",
        "    'q': 0, 'r': 0, 's': 0, 't': 0, 'u': 0, 'v': 0, 'w': 0, 'x': 0,\n",
        "    'y': 0, 'z': 0\n",
        "    }\n",
        "\n",
        "with open('gadsby.txt', 'r') as file:\n",
        "    #lines = [el.lower() for el in file]\n",
        "    \n",
        "    for line in file:\n",
        "        for letter in line:\n",
        "            for letter in all_letters.keys():\n",
        "                all_letters[letter.lower()] += 1\n",
        "print(all_letters)\n",
        "\n",
        "file.close()\n",
        "\n",
        "values = list()\n",
        "for k, v in all_letters.items():\n",
        "    values.append(v)\n",
        "\n",
        "all_numbers=0\n",
        "for el in values:\n",
        "    all_numbers += el\n",
        "\n",
        "all_letters = sorted(all_letters.items(), key = lambda x: -x[1])\n",
        "\n",
        "for lett, count in all_letters[:5]:\n",
        "    percent = round(count * 100 /all_numbers, 3)\n",
        "    print(f'{lett}:{percent}%')\n",
        "print()\n",
        "for lett, count in all_letters[-5:]:\n",
        "    percent = round(count * 100 /all_numbers, 3)\n",
        "    print(f'{lett}:{percent}%')\n"
      ]
    },
    {
      "cell_type": "markdown",
      "metadata": {
        "id": "A34oz70eU463"
      },
      "source": [
        "### **Завдання 2 (1,5 бали)**\n",
        "\n",
        "Архів archive.zip містить 140 txt-файлів, в яких збережено інфорамцію про те, якими іменами називали дітей у США в період з 1880 по 2019 рік.\n",
        "\n",
        "Структура рядка кожного файлу така:\n",
        "\n",
        "*name,sex,number_of_occurrences*\n",
        "\n",
        "Напишіть програму, яка зчитуватиме кожен файл та визначатиме окремо чоловічі, окремо жіночі імена, що були найпопулярнішими хоча б в один з років. Далі програма повинна підраховувати, скільки разів кожне з цих імен ставало найпопулярнишим, та виводити ранжовані списки чоловічіх та жіночих імен у вигляді:\n",
        "\n",
        "```\n",
        "Michael 44\n",
        "John 44\n",
        "Robert 17\n",
        "...\n",
        "\n",
        "Mary 76\n",
        "Jennifer 15\n",
        "Emily 12\n",
        "...\n",
        "```"
      ]
    },
    {
      "cell_type": "code",
      "execution_count": 16,
      "metadata": {},
      "outputs": [
        {
          "name": "stdout",
          "output_type": "stream",
          "text": [
            "{'John': 44, 'Robert': 17, 'James': 13, 'Michael': 44, 'David': 1, 'Jacob': 14, 'Noah': 4, 'Liam': 3}\n",
            "David = 1\n",
            "Jacob = 14\n",
            "James = 13\n",
            "John = 44\n",
            "Liam = 3\n",
            "Michael = 44\n",
            "Noah = 4\n",
            "Robert = 17\n",
            "...\n",
            "Ashley = 2\n",
            "Emily = 12\n",
            "Emma = 6\n",
            "Isabella = 2\n",
            "Jennifer = 15\n",
            "Jessica = 9\n",
            "Linda = 6\n",
            "Lisa = 8\n",
            "Mary = 76\n",
            "Olivia = 1\n",
            "Sophia = 3\n"
          ]
        }
      ],
      "source": [
        "import zipfile\n",
        "import re\n",
        "f_name = {}\n",
        "m_name = {}\n",
        "\n",
        "with zipfile.ZipFile('archive.zip') as myzip:\n",
        "\n",
        "    for filename in myzip.namelist():\n",
        "      d1 = {}\n",
        "      d2 = {}\n",
        "      if filename[-4:] == '.txt':\n",
        "        \n",
        "        open = myzip.open(filename)\n",
        "        for line in open.readlines():\n",
        "         decoded_line = line.decode(encoding = \"utf-8\")\n",
        "         values = re.split(r' |,|\\n', decoded_line)\n",
        "         name = values[0]\n",
        "         sex = values[1]\n",
        "         count = int(values[2])\n",
        "         if sex == 'M':\n",
        "            d1[name] = int(count)\n",
        "         elif sex == 'F':\n",
        "            d2[name] = int(count)\n",
        "        female_names = list(d2.items())\n",
        "        male_names = list(d1.items())\n",
        "        popular_m = male_names[0][0] \n",
        "        popular_f = female_names[0][0]\n",
        "        v1 = m_name.get(popular_m,0)\n",
        "        m_name[popular_m] = v1 + 1\n",
        "        f_name[popular_f] = f_name.get(popular_f, 0) + 1          \n",
        "      else:\n",
        "        continue\n",
        "    print(m_name)\n",
        "    popular1  = dict(sorted((key, value) for (key, value) in m_name.items()))\n",
        "    popular2 = dict(sorted((key,value) for (key,value) in f_name.items()))\n",
        "    for key, value in popular1.items(): \n",
        "      print(key, \"=\",value)\n",
        "    print('...')\n",
        "    for key, value in popular2.items():\n",
        "        print(key, \"=\", value)"
      ]
    },
    {
      "cell_type": "markdown",
      "metadata": {},
      "source": [
        "### **Завдання 3 (1,5 бали)**\n",
        "\n",
        "Створіть CSV-файл, що буде містити від 5 до 10 пісень (творів) вашого улюбленого музиканта. Назва файлу - ім'я музиканта (композитора) або назва гурту.\n",
        "\n",
        "1. Обов'язково додайте до файлу рядок з назвами двох колонок (Song, Year) або (Composition, Year).\n",
        "\n",
        "2. Після запису файлу роздрукуйте назву файлу та усі наявні у файлі рядки (включно із заголовками).\n",
        "\n",
        "3. Для запису та зчитування рядків скористайтесь функціями csv.DictWriter() та csv.DictReader()."
      ]
    },
    {
      "cell_type": "code",
      "execution_count": null,
      "metadata": {},
      "outputs": [
        {
          "name": "stdout",
          "output_type": "stream",
          "text": [
            "bts.csv\n",
            "____________________\n",
            "Song : Year\n",
            "Life Goes On : 2020\n",
            "Airplane pt.2 : 2018\n",
            "MIC Drop : 2017\n",
            "Mikrokosmos : 2019\n",
            "Silver Spoon : 2015\n",
            "Outro(Tears) : 2018\n",
            "No More Dreams : 2013\n",
            "Pied Piper : 2017\n",
            "Fire : 2016\n"
          ]
        }
      ],
      "source": [
        "import csv\n",
        "filename = 'bts.csv'\n",
        "with open('bts.csv', 'w', newline='') as csvfile:\n",
        "    fieldnames = ['Song', 'Year']\n",
        "    writer = csv.DictWriter(csvfile, fieldnames=fieldnames)\n",
        "    writer.writeheader()\n",
        "    writer.writerow({'Song': 'Life Goes On',\n",
        "                     'Year': '2020'})\n",
        "    writer.writerow({'Song': 'Airplane pt.2',\n",
        "                     'Year': '2018'})\n",
        "    writer.writerow({'Song': 'MIC Drop',\n",
        "                     'Year': '2017'})\n",
        "    writer.writerow({'Song': 'Mikrokosmos',\n",
        "                     'Year': '2019'})                 \n",
        "    writer.writerow({'Song': 'Silver Spoon',\n",
        "                     'Year': '2015'})\n",
        "    writer.writerow({'Song': 'Outro(Tears)',\n",
        "                     'Year': '2018'})\n",
        "    writer.writerow({'Song': 'No More Dreams',\n",
        "                     'Year': '2013'})\n",
        "    writer.writerow({'Song': 'Pied Piper',\n",
        "                     'Year': '2017'})  \n",
        "    writer.writerow({'Song': 'Fire',\n",
        "                     'Year': '2016'})     \n",
        "\n",
        "with open('bts.csv', newline=\"\") as csvfile:      \n",
        "    read = csv.DictReader(csvfile)\n",
        "    print(filename)   \n",
        "    print('_'*20) \n",
        "    print(fieldnames[0],':', fieldnames[1])  \n",
        "    for r in read:\n",
        "        print(r['Song'],':',r['Year'])                                               "
      ]
    },
    {
      "cell_type": "markdown",
      "metadata": {},
      "source": [
        "### **Завдання 4 (1,5 бали)**\n",
        "\n",
        "COCO Dataset - набір фотографій та анотацій до них. Його дуже часто використовують для тренування класифікаторів, призначених для розпізнавання об'єктів та визначення ключових точок на зображеннях.\n",
        "\n",
        "Завантажте файли з описом фотографій COCO Dataset за посиланням: [COCO Dataset](http://images.cocodataset.org/annotations/image_info_test2017.zip).\n",
        "\n",
        "Відкрийте файл image_info_test-dev2017.json. Інформація про фотографії з бази COCO міститься у полі \"images\". Інформація про категорії, на які розділені всі фотографії, міститься у полі \"categories\".\n",
        "\n",
        "1. Визначте кількість фотографій, інформацію про які можна знайти у цьому файлі (кількість елементів, що відповідають ключу \"images\").\n",
        "\n",
        "2. Визначте кількість наявних категорій (кількість елементів, що відповідають ключу \"categories\").\n",
        "\n",
        "3. Виведіть посилання на фотографію 000000000001.jpg (\"coco_url\"). Також виведіть висоту цієї фотографії (\"height\"), ширину (\"width\") та її ідентифікатор (\"id\").\n",
        "\n",
        "4. Виведіть назву фотографії з набільшим номером.\n",
        "\n",
        "Опис структури JSON-файлу для набору фотографій COCO можна знайти за посиланням: [Data format](https://cocodataset.org/#format-data).\n",
        "\n",
        "Щоб перевірити правильність результатів, у VS Code встановіть розширення JSON та відкрийте файл image_info_test-dev2017.json. Розширення автоматично визначає кількість елементів у кожному полі."
      ]
    },
    {
      "cell_type": "code",
      "execution_count": 12,
      "metadata": {},
      "outputs": [
        {
          "name": "stdout",
          "output_type": "stream",
          "text": [
            "Number of images 20288\n",
            "Number of categories 80\n",
            "Link to image http://images.cocodataset.org/test2017/000000000001.jpg\n",
            "Height 480\n",
            "Width 640\n",
            "Identifier 1\n",
            "Image with max value:000000581918.jpg\n"
          ]
        }
      ],
      "source": [
        "import json\n",
        "\n",
        "with open('image_info_test-dev2017.json', 'r') as f:\n",
        "    data = json.load(f)\n",
        "    print(f\"Number of images {len(data['images'])}\")\n",
        "    print(f\"Number of categories {len(data['categories'])}\")\n",
        "    for i in data['images']:\n",
        "        if i['file_name'] == '000000000001.jpg':\n",
        "            link = i['coco_url']\n",
        "            width = i['width']\n",
        "            height = i['height']\n",
        "            id = i['id']\n",
        "            print(f'Link to image {link}')\n",
        "            print(f'Height {height}')\n",
        "            print(f'Width {width}')\n",
        "            print(f'Identifier {id}')\n",
        "\n",
        "id = data['images'][0]['id']\n",
        "for l in data['images']:\n",
        "    if id < l['id']:\n",
        "        id = l['id']\n",
        "        i1 = l\n",
        "print(f'Image with max value:{i1[\"file_name\"]}')"
      ]
    }
  ],
  "metadata": {
    "colab": {
      "collapsed_sections": [],
      "name": "Practice_14_KM_01.ipynb",
      "provenance": []
    },
    "kernelspec": {
      "display_name": "Python 3",
      "language": "python",
      "name": "python3"
    },
    "language_info": {
      "codemirror_mode": {
        "name": "ipython",
        "version": 3
      },
      "file_extension": ".py",
      "mimetype": "text/x-python",
      "name": "python",
      "nbconvert_exporter": "python",
      "pygments_lexer": "ipython3",
      "version": "3.11.0"
    },
    "vscode": {
      "interpreter": {
        "hash": "8bde68e369923a8d8a3a54468edb454abeb1a942b8610a2d0d96d72cfd89a8c6"
      }
    }
  },
  "nbformat": 4,
  "nbformat_minor": 0
}
