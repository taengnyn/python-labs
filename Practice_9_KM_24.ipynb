{
  "cells": [
    {
      "cell_type": "markdown",
      "metadata": {
        "id": "FMqboNwO4rVs"
      },
      "source": [
        "# **Курс \"Програмування на мові Python\"**"
      ]
    },
    {
      "cell_type": "markdown",
      "metadata": {
        "id": "A2T6MigL5Z06"
      },
      "source": [
        "## **Практичне зайняття №9**\n",
        "\n",
        "### Тема: \"Робота з функціями. Локальні та глобальні змінні\""
      ]
    },
    {
      "cell_type": "markdown",
      "metadata": {
        "id": "cfCdgK2zXm7e"
      },
      "source": [
        "### **Завдання 1 (3 бали)**\n",
        "\n",
        "**Підрахувати визначник матриці, використовуючи правило перестановок.**\n",
        "\n",
        "Функція random_matrix() призначена для створення квадратної матриці випадкових чисел. Її змінювати непотрібно.\n",
        "\n",
        "Приклад використання методу permutations() для створення списку перестановок також подається у комірці з кодом.\n",
        "\n",
        "1) Створити 3 функції: функцію створення списку перестановок, функцію підрахунку добутків та функцію підрахунку загальної суми.\n",
        "\n",
        "2) Кожна функція має супроводжуватись рядком документації, що буде коротко описувати її призначення.\n",
        "\n",
        "3) Розмірність квадратної матриці має вводитись користувачем з клавіатури. Підрахунки виконувати лише в тому разі, якщо користувач введе ціле додатне число.\n",
        "\n",
        "4) Загальний результат повинен підраховуватись за допомогою композиції функцій.\n",
        "\n",
        "За бажанням можна перевірити правильність роботи програми за допомогою функції np.linalg.det(a)."
      ]
    },
    {
      "cell_type": "code",
      "execution_count": null,
      "metadata": {
        "id": "ifNX2M7LXm7f"
      },
      "outputs": [],
      "source": [
        "import numpy as np\n",
        "import itertools\n",
        "import math\n",
        "\n",
        "#the user must enter a number that will indicate the number of rows and columns in the square matrix\n",
        "\n",
        "\n",
        "def random_matrix(dim):\n",
        "    \"\"\"\n",
        "    The function generates dim x dim array of integers\n",
        "    between 0 and 10.\n",
        "    \"\"\"\n",
        "    matrix = np.random.randint(10, size = (dim, dim))\n",
        "    return matrix\n",
        "\n",
        "#Example of using permutations() method\n",
        "t = list(itertools.permutations('123', 3))\n",
        "def permutation(size_input, matrix):\n",
        "    array=[]\n",
        "    list_i=[]\n",
        "    '''\n",
        "    The function receives the size of the matrix and the set of its \n",
        "    elements and creates all possible permutations of the element indices\n",
        "    '''\n",
        "    permutation_s=math.factorial(size_input)\n",
        "    for i in range(size_input):\n",
        "        list_i.append(str(i))\n",
        "    list_i=tuple(map(int,list_i))\n",
        "    t=list(itertools.permutations(list_i,size_input))\n",
        "    t=list(map(list_i,t))\n",
        "    list_j=[]\n",
        "    for elem in t:\n",
        "        index = 1\n",
        "        count = 0\n",
        "        for i in range(len(elem)):\n",
        "            for s in range(i):\n",
        "                if elem[s] > elem[i]:\n",
        "                    count += 1\n",
        "                    list_j.append(index)\n",
        "    for j in range(permutation_s):\n",
        "        array=[]   \n",
        "        for i in range(size_input):\n",
        "            array.append(matrix[i][t[j][i]])\n",
        "    return array\n",
        "\n",
        "\n",
        "'''\n",
        "the function calculates the determinant of the matrix \n",
        "depending on the number of elements in it\n",
        "'''\n",
        "def determin(array):\n",
        "    matrix_len = len(array)\n",
        "    #calculation of the determinant of the matrix\n",
        "    if matrix_len == 1:\n",
        "        det =  array[0][0]\n",
        "        return det\n",
        "    if matrix_len == 2:\n",
        "        det = array[0][0]*array[1][1] - array[0][1]*array[1][0]\n",
        "        return det\n",
        "    det = 0\n",
        "    for i in range(0,matrix_len):\n",
        "        output = permutation(array,0,i)\n",
        "        #sign of matrix elements\n",
        "        if i%2 == 0:\n",
        "            det =det + array[0][i] * determin(output)\n",
        "        if i%2 != 0:\n",
        "            det =det + (-1)*array[0][i] * determin(output)\n",
        "    return det\n",
        "\n",
        "try:\n",
        "    size_input = int(input('Enter matrix size number: '))\n",
        "    if size_input <= 0:\n",
        "        print('Size can only be positive number')\n",
        "    else:\n",
        "        output = random_matrix(size_input)\n",
        "        print(output)\n",
        "\n",
        "        print('Determin:', determin(output))\n",
        "        print('Numpy result:', np.linalg.det(output))\n",
        "except ValueError:\n",
        "    print('You have not entered a natural number')"
      ]
    }
  ],
  "metadata": {
    "colab": {
      "collapsed_sections": [],
      "name": "Practice_7_KM-01_.ipynb",
      "provenance": []
    },
    "kernelspec": {
      "display_name": "Python 3.11.0 64-bit",
      "language": "python",
      "name": "python3"
    },
    "language_info": {
      "name": "python",
      "version": "3.11.0"
    },
    "vscode": {
      "interpreter": {
        "hash": "8bde68e369923a8d8a3a54468edb454abeb1a942b8610a2d0d96d72cfd89a8c6"
      }
    }
  },
  "nbformat": 4,
  "nbformat_minor": 0
}
