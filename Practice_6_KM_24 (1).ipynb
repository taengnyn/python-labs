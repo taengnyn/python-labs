{
  "cells": [
    {
      "cell_type": "markdown",
      "metadata": {
        "id": "FMqboNwO4rVs"
      },
      "source": [
        "# **Курс \"Програмування на мові Python\"**"
      ]
    },
    {
      "cell_type": "markdown",
      "metadata": {
        "id": "A2T6MigL5Z06"
      },
      "source": [
        "## **Практичне зайняття №6**\n",
        "### Тема: \"Робота з кортежами, множинами та словниками\""
      ]
    },
    {
      "cell_type": "markdown",
      "metadata": {
        "id": "4AV5CN7N4xja"
      },
      "source": [
        "### **Завдання 1 (1,5 бали)**\n",
        "\n",
        "Напишіть програму, яка визначала б, чи можна з літер однієї фрази скласти іншу фразу. Наприклад:\n",
        "\n",
        "\"William Shakespeare\" -> \"A small spark\"\n",
        "\n",
        "Перша фраза містить 11 унікальних літер (хоча деякі повторюються): a, e, h, i, k, l, m, p, r, s та w. Друга фраза містить 7 унікальних літер: a, k, l, m, p, r та s. Кожна з літер другої фрази зустрічається принаймні один раз у першій фразі.\n",
        "\n",
        "1. Обидві фрази повинні вводитись користувачем з клавіатури.\n",
        "\n",
        "2. Скористайтесь властивістю множин у мові програмування Python для виділення колекції унікальних літер.\n",
        "\n",
        "3. У множину не повинні потрапити пробіли, розділові знаки та інші символи, що не є літерами (скористайтесь методом **isalpha()**). Також усі літери мають бути переведені в нижній або верхній регістр (скористайтесь методами **lower()** або **upper()**).\n",
        "\n",
        "4. Зверніть увагу на те, що літери як в першій, так і вдругій фразі можуть повторюватись. Однак множина унікальних літер другої фрази повинна бути підмножиною множини унікальних літер першої фрази.\n",
        "\n",
        "5. У складі змістовного повідомлення програма повинна виводити множину літер першої фрази, множину літер другої фрази, а також змістовне повідомлення про те, чи можна скласти з літер першої фрази другу фразу."
      ]
    },
    {
      "cell_type": "code",
      "execution_count": null,
      "metadata": {
        "id": "9Mesp1jV4xjb"
      },
      "outputs": [],
      "source": [
        "str1 = input(\"Enter some letters: \")\n",
        "str2 = input(\"Enter phrase you want to get: \")\n",
        "\n",
        "str3=\"\".join(c for c in str1 if c.isalpha())\n",
        "str4=\"\".join(c for c in str2 if c.isalpha())\n",
        "\n",
        "a = str3.lower()\n",
        "b = str4.lower()\n",
        "\n",
        "basket1 = set(a)\n",
        "basket2 = set(b)\n",
        "\n",
        "result = basket1.issubset(basket2)\n",
        "if  True:\n",
        "    print(\"it is possible to make such a set\")\n",
        "else:\n",
        "    print(\"it is impossible to make such a set\")\n",
        "\n",
        "print(basket1)\n",
        "print(basket2)"
      ]
    },
    {
      "cell_type": "markdown",
      "metadata": {
        "id": "y7pQFLvSCkym"
      },
      "source": [
        "### **Завдання 2 (1,5 бали)**\n",
        "\n",
        "У Канаді поштові індекси мають специфічну форму. Вони складаються з трьох символів. Перший символ вказує на провінцію. Другий символ вказує на те, у міській чи у сільській місцевості знаходиться адресат. Якщо у сільській місцевості - це 0. Якщо у міській - будь-яка інша цифра. Провінція позначається великою латинською літерою. Повний перелік провінцій на літер, що їм відповідають, подано у таблиці.\n",
        "\n",
        "Провінція | Перший символ поштового індекса\n",
        "--- | ---\n",
        "Newfoundland | A\n",
        "Nova Scotia | B\n",
        "Prince Edward Island | C\n",
        "New Brunswick | E\n",
        "Quebec | G, H and J\n",
        "Ontario | K, L, M, N and P\n",
        "Manitoba | R\n",
        "Saskatchewan | S\n",
        "Alberta | T\n",
        "British Columbia | V\n",
        "Nunavut | X\n",
        "Northwest Territories | X\n",
        "Yukon | Y\n",
        "\n",
        "Напишіть програму, яка зчитує поштовий індекс, введений користувачем, та виводить у складі змістовного повідомлення провінцію адресата та інформацію про те, у міській чи у сільській місцевості він знаходиться. Наприклад, якщо користувач вводить T2N, програма повинна визначити, що адресат знаходиться у міській місцевості провінції Альберта. Якщо він вводить X0A, адресат знаходиться у сільській місцевості провінції Нанавут або Північних Територій (зверніть увагу на те, що літера X повторюється для двох провінцій). Третя літера для нас неважлива. Зауважте, що літери D, F, I, O, Q, U, W, та Z не позначають жодної з провінцій Канади.\n",
        "\n",
        "1. Скористайтесь словником для збереження усіх провінцій та літер, що їм відповідають.\n",
        "\n",
        "2. Користувач повинен ввести рівно 3 символи. Перший і останній символи мають бути літерами, другий - цифрою. Для перевірки скористайтесь методами **isalpha()** та **isdigit()**. Якщо користувач введе не 3 символи, а більше чи менше, або ж послідовність літер та цифр не буде співпадати з шаблоном, програма має вивести повідомлення про помилку.\n",
        "\n",
        "3. Програма повинна приймати літери як верхнього, так і нижнього регістрів. Однак виводити - лише у верхньому регістрі (скористайтесь методами **lower()** або **upper()**)."
      ]
    },
    {
      "cell_type": "code",
      "execution_count": null,
      "metadata": {
        "id": "EVY800vg4xjg"
      },
      "outputs": [],
      "source": [
        "index = input('Enter three-digit index: ')\n",
        "new_index = index.upper()\n",
        "print(new_index)\n",
        "str = str.isalnum(index)\n",
        "if str == False:\n",
        "  print('wrong index')\n",
        "\n",
        "\n",
        "list = list(new_index)\n",
        "if len(list)>3 or len(list)<3:\n",
        "  print('wrong index')\n",
        "else:\n",
        "  a = list[0]\n",
        "  b = list[1]\n",
        "  c = list[2]\n",
        "  \n",
        "  a1 = (\" \".join(a)).isalpha()\n",
        "  c1 = (\" \".join(c)).isalpha()\n",
        "  b1 = (\" \".join(b)).isdigit()\n",
        "\n",
        "  if a1 == False or c1 == False or b1 == False :\n",
        "      print('wrong index')\n",
        "  else:\n",
        "\n",
        "      type = {'0': 'country',\n",
        "              '1': 'city',\n",
        "              '2': 'city',\n",
        "              '3': 'city',\n",
        "              '4': 'city',\n",
        "              '5': 'city',\n",
        "              '6': 'city',\n",
        "              '7': 'city',\n",
        "              '8': 'city',\n",
        "              '9': 'city'}\n",
        "\n",
        "\n",
        "      provinces = {'A': 'Newfoundland',\n",
        "                'B': 'Nova Scotia',\n",
        "                'C': 'Prince Edward Island',\n",
        "                'D': 'wrong index',\n",
        "                'E': 'New Brunswick',\n",
        "                'F': 'wrong index',\n",
        "                'G': 'Quebec',\n",
        "                'H': 'Quebec',\n",
        "                'I': 'wrong index',\n",
        "                'J': 'Quebec',\n",
        "                'K': 'Ontario',\n",
        "                'L': 'Ontario',\n",
        "                'M': 'Ontario',\n",
        "                'N': 'Ontario',\n",
        "                'O': 'wrong index',\n",
        "                'P': 'Ontario',\n",
        "                'Q': 'wrong index',\n",
        "                'R': 'Manitoba',\n",
        "                'S': 'Saskatchewan',\n",
        "                'T': 'Alberta',\n",
        "                'U': 'wrong index',\n",
        "                'V': 'British Columbia',\n",
        "                'X': 'Nunavut or Northwest Territories', \n",
        "                'Y': 'Yukon',\n",
        "                'W': 'wrong index',\n",
        "                'Z': 'wrong index'}\n",
        "\n",
        "      print('provinces:', provinces.get(a))\n",
        "      print('type:', type.get(b))"
      ]
    }
  ],
  "metadata": {
    "colab": {
      "collapsed_sections": [],
      "name": "Practice_5_KM_04_.ipynb",
      "provenance": []
    },
    "kernelspec": {
      "display_name": "Python 3.10.7 64-bit",
      "language": "python",
      "name": "python3"
    },
    "language_info": {
      "name": "python",
      "version": "3.10.7"
    },
    "vscode": {
      "interpreter": {
        "hash": "2f7edaf172f4dfa639201f0fe748ba5f22073264f98170da4a4bec1832896c26"
      }
    }
  },
  "nbformat": 4,
  "nbformat_minor": 2
}
