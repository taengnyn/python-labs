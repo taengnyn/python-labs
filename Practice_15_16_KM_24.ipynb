{
  "cells": [
    {
      "cell_type": "markdown",
      "metadata": {
        "id": "FMqboNwO4rVs"
      },
      "source": [
        "# **Курс \"Програмування на мові Python\"**"
      ]
    },
    {
      "attachments": {},
      "cell_type": "markdown",
      "metadata": {
        "id": "A2T6MigL5Z06"
      },
      "source": [
        "## **Практичні зайняття №15-16**\n",
        "\n",
        "### Тема: \"Ітератори та генератори. Декоратори\""
      ]
    },
    {
      "cell_type": "markdown",
      "metadata": {
        "id": "cfCdgK2zXm7e"
      },
      "source": [
        "### **Завдання 1 (2 бали)**\n",
        "\n",
        "Розрахуйте коефієнти розкладу [біному Ньютона](https://uk.wikipedia.org/wiki/%D0%91%D1%96%D0%BD%D0%BE%D0%BC_%D0%9D%D1%8C%D1%8E%D1%82%D0%BE%D0%BD%D0%B0) за допомогою генератора.\n",
        "\n",
        "1. Степінь многочлена користувач має вводити з клавіатури (невід'ємне ціле число).\n",
        "\n",
        "2. Програма має підраховувати біноміальні коефіцієнти для біномів усіх степенів, починаючи від 0 і закінчуючи тим, який ввів користувач.\n",
        "\n",
        "3. Коефіцієнти мають виводитись у вигляді трикутника Паскаля.\n",
        "\n",
        "Наприклад, якщо користувач введе число 5, програма має вивести результат:\n",
        "\n",
        "1\n",
        "\n",
        "1 1\n",
        "\n",
        "1 2 1\n",
        "\n",
        "1 3 3 1\n",
        "\n",
        "1 4 6 4 1\n",
        "\n",
        "1 5 10 10 5 1\n"
      ]
    },
    {
      "cell_type": "code",
      "execution_count": 39,
      "metadata": {
        "id": "Bku8v9CjE_Qc"
      },
      "outputs": [
        {
          "name": "stdout",
          "output_type": "stream",
          "text": [
            "1 \n",
            "1 1 \n",
            "1 2 1 \n",
            "1 3 3 1 \n",
            "1 4 6 4 1 \n",
            "1 5 10 10 5 1 \n"
          ]
        }
      ],
      "source": [
        "from math import factorial\n",
        "\n",
        "n = int(input('Enter the degree of the polynom: '))\n",
        "\n",
        "for i in range(n+1):\n",
        "    for j in range(i+1):\n",
        "        print(int((factorial(i))/(factorial(j)*factorial(i-j))), end= ' ')\n",
        "    print()"
      ]
    },
    {
      "attachments": {},
      "cell_type": "markdown",
      "metadata": {},
      "source": [
        "### **Завдання 2 (1 бал)**\n",
        "\n",
        "Реалізуйте генератор колоди карт (52 штуки). Кожна карта подається у вигляді рядка типу \"*5 diamonds*\".\n",
        "\n",
        "1. 4 масті (diamonds, clubs, hearts, spades) та 13 значень карт мають зберігатись у двох окремих списках (кортежах).\n",
        "\n",
        "2. Значення від 2 до 10 мають генеруватись за допомогою функції range().\n",
        "\n",
        "3. Окрім чисел, у списку значень мають бути присутніми елементи 'A' (Ace - туз), 'J' (Jack - валет), 'Q' (Queen - дама) та 'K' (King - король).\n",
        "\n",
        "4. Карти мають виводитись у порядку від 'A' до 'K'. Порядок виведення мастей не має значення.\n",
        "\n",
        "    *Приклад:*\n",
        "\n",
        "    А diamonds\n",
        "\n",
        "    2 diamonds\n",
        "\n",
        "    ...\n",
        "\n",
        "    K diamonds\n",
        "\n",
        "    A clubs\n",
        "\n",
        "    ...\n",
        "\n",
        "5. Кожна наступна карта має виводитись за допомогою функції next().\n",
        "\n",
        "6. Виведення карт має завершуватись виключенням StopIteration."
      ]
    },
    {
      "cell_type": "code",
      "execution_count": 50,
      "metadata": {},
      "outputs": [
        {
          "name": "stdout",
          "output_type": "stream",
          "text": [
            "A   d i a m o n d s\n",
            "2   d i a m o n d s\n",
            "3   d i a m o n d s\n",
            "4   d i a m o n d s\n",
            "5   d i a m o n d s\n",
            "6   d i a m o n d s\n",
            "7   d i a m o n d s\n",
            "8   d i a m o n d s\n",
            "9   d i a m o n d s\n",
            "1 0   d i a m o n d s\n",
            "J   d i a m o n d s\n",
            "Q   d i a m o n d s\n",
            "K   d i a m o n d s\n",
            "A   c l u b s\n",
            "2   c l u b s\n",
            "3   c l u b s\n",
            "4   c l u b s\n",
            "5   c l u b s\n",
            "6   c l u b s\n",
            "7   c l u b s\n",
            "8   c l u b s\n",
            "9   c l u b s\n",
            "1 0   c l u b s\n",
            "J   c l u b s\n",
            "Q   c l u b s\n",
            "K   c l u b s\n",
            "A   h e a r t s\n",
            "2   h e a r t s\n",
            "3   h e a r t s\n",
            "4   h e a r t s\n",
            "5   h e a r t s\n",
            "6   h e a r t s\n",
            "7   h e a r t s\n",
            "8   h e a r t s\n",
            "9   h e a r t s\n",
            "1 0   h e a r t s\n",
            "J   h e a r t s\n",
            "Q   h e a r t s\n",
            "K   h e a r t s\n",
            "A   s p a d e\n",
            "2   s p a d e\n",
            "3   s p a d e\n",
            "4   s p a d e\n",
            "5   s p a d e\n",
            "6   s p a d e\n",
            "7   s p a d e\n",
            "8   s p a d e\n",
            "9   s p a d e\n",
            "1 0   s p a d e\n",
            "J   s p a d e\n",
            "Q   s p a d e\n",
            "K   s p a d e\n"
          ]
        },
        {
          "ename": "StopIteration",
          "evalue": "",
          "output_type": "error",
          "traceback": [
            "\u001b[1;31m---------------------------------------------------------------------------\u001b[0m",
            "\u001b[1;31mStopIteration\u001b[0m                             Traceback (most recent call last)",
            "Cell \u001b[1;32mIn [50], line 11\u001b[0m\n\u001b[0;32m      9\u001b[0m l \u001b[39m=\u001b[39m cards(s, v)\n\u001b[0;32m     10\u001b[0m \u001b[39mfor\u001b[39;00m n \u001b[39min\u001b[39;00m \u001b[39mrange\u001b[39m(\u001b[39m53\u001b[39m):\n\u001b[1;32m---> 11\u001b[0m     \u001b[39mprint\u001b[39m(\u001b[39m*\u001b[39m(\u001b[39mnext\u001b[39m(l)))\n",
            "\u001b[1;31mStopIteration\u001b[0m: "
          ]
        }
      ],
      "source": [
        "s = ['diamonds', 'clubs', 'hearts', 'spade']\n",
        "v = ['A'] + [i for i in range(2, 11)] + ['J', 'Q', 'K']\n",
        "\n",
        "def cards(suit, value):  \n",
        "    for j in suit:\n",
        "        for i in value:\n",
        "            yield f'{i} {j}'\n",
        "\n",
        "l = cards(s, v)\n",
        "for n in range(53):\n",
        "    print(*(next(l)))"
      ]
    },
    {
      "attachments": {},
      "cell_type": "markdown",
      "metadata": {},
      "source": [
        "### **Завдання 3 (3 бали)**\n",
        "\n",
        "Реалізуйте підрахунок площі трикутника з використанням декоратора, який перевірятиме можливість побудови трикутника з трьох введених користувачем сторін.\n",
        "\n",
        "1. Напишіть функцію area_calculation, яка підраховуватиме площу трикутника за трьома сторонами. Для підрахунку можете скористатись формулою Герона.\n",
        "\n",
        "2. Напишіть функцію check, яка перевірятиме правильність введених користувачем значень (значення мають бути додатними числами, не обов'язково цілими).\n",
        "\n",
        "3. Створіть декоратор triangle_ineq, який перевірятиме виконання нерівності трикутрика для трьох заданих користувачем сторін. Навісьте декоратор triangle_ineq на функцію  area_calculation та перевірте правильність роботи програми."
      ]
    },
    {
      "cell_type": "code",
      "execution_count": 85,
      "metadata": {},
      "outputs": [
        {
          "name": "stdout",
          "output_type": "stream",
          "text": [
            "Wrong\n"
          ]
        }
      ],
      "source": [
        "import math \n",
        "def check():       \n",
        "    try:        \n",
        "        a = float(input('Enter side a : '))\n",
        "        b = float(input('Enter side b : '))\n",
        "        c = float(input('Enter side c : '))\n",
        "        if a<=0 or b<=0 or c <= 0:\n",
        "            raise ValueError      \n",
        "    except:\n",
        "        return False\n",
        "    return a, b, c\n",
        "\n",
        "def triangle_ineq(func):\n",
        "    def f1(a, b, c):\n",
        "        if b+c > a and c+a > b and a+b > c:          \n",
        "            func(a, b, c)\n",
        "        else:\n",
        "            print('A triangle with such parameters does not exist')\n",
        "        return f1\n",
        "\n",
        "@triangle_ineq\n",
        "def area_calculation(a, b, c):\n",
        "        p = (a + b + c)/2\n",
        "        s = math.sqrt(p*(p-a)*(p-b)*(p-c)) \n",
        "        return s\n",
        "           \n",
        "\n",
        "t = check()\n",
        "if t != False:\n",
        "    a, b, c = t\n",
        "    print('S = ', area_calculation(a, b, c))\n",
        "else:\n",
        "    print('Wrong')"
      ]
    }
  ],
  "metadata": {
    "colab": {
      "collapsed_sections": [],
      "name": "Practice_10-11_KM_01_.ipynb",
      "provenance": []
    },
    "kernelspec": {
      "display_name": "Python 3",
      "language": "python",
      "name": "python3"
    },
    "language_info": {
      "codemirror_mode": {
        "name": "ipython",
        "version": 3
      },
      "file_extension": ".py",
      "mimetype": "text/x-python",
      "name": "python",
      "nbconvert_exporter": "python",
      "pygments_lexer": "ipython3",
      "version": "3.11.0"
    },
    "vscode": {
      "interpreter": {
        "hash": "8bde68e369923a8d8a3a54468edb454abeb1a942b8610a2d0d96d72cfd89a8c6"
      }
    }
  },
  "nbformat": 4,
  "nbformat_minor": 0
}
