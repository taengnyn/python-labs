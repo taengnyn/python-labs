{
  "cells": [
    {
      "cell_type": "markdown",
      "metadata": {
        "id": "FMqboNwO4rVs"
      },
      "source": [
        "# **Курс \"Програмування на мові Python\"**"
      ]
    },
    {
      "cell_type": "markdown",
      "metadata": {
        "id": "A2T6MigL5Z06"
      },
      "source": [
        "## **Практичне зайняття №10**\n",
        "\n",
        "### Тема: \"Лямбда-функції. Функції вищих порядків\""
      ]
    },
    {
      "cell_type": "markdown",
      "metadata": {
        "id": "cfCdgK2zXm7e"
      },
      "source": [
        "### **Завдання 1 (1 бал)**\n",
        "\n",
        "Продавець роздрібного товару влаштовує розпродаж. Для всіх товарів знижка однакова - 60%. Щоб вивісити нові цінники, продавець хоче скласти таблицю, в якій для кожного товару буде підрахована його нова вартість та сума знижки.\n",
        "\n",
        "Написати програму, яка буде генерувати таку таблицю. Вартість одиниць товарів до розпродажу подано у списку products_list. \n",
        "\n",
        "1. Для підрахунку невідомих значень повинні використовуватись вбудовані функції вищих порядків.\n",
        "\n",
        "2. Вартість з урахуванням знижки та суми знижок для кожного товару повинні зберігатись у двох окремих списках. Порядок товарів у нових списках повинен бути такий самий, як і в списку products_list.\n",
        "\n",
        "3. Кожне підраховане числове значення має бути округлене до сотих.\n",
        "\n",
        "4. Дані повинні виводитись у вигляді:\n",
        "\n",
        "**Discount table:**\n",
        "\n",
        "**15.89 6.36 9.53**\n",
        "\n",
        "**39.99 16.0 23.99**\n",
        "\n",
        "**...**\n",
        "\n",
        "\n",
        "products_list = [15.89, 39.99, 82.10, 135.85, 318.90, 510.00, 799.98]"
      ]
    },
    {
      "cell_type": "code",
      "execution_count": 3,
      "metadata": {
        "id": "ifNX2M7LXm7f"
      },
      "outputs": [
        {
          "name": "stdout",
          "output_type": "stream",
          "text": [
            "15.89 6.36 9.53\n",
            "39.99 16.0 23.99\n",
            "82.1 32.84 49.26\n",
            "135.85 54.34 81.51\n",
            "318.9 127.56 191.34\n",
            "510.0 204.0 306.0\n",
            "799.98 319.99 479.99\n",
            "products_list =  [15.89, 39.99, 82.1, 135.85, 318.9, 510.0, 799.98]\n"
          ]
        }
      ],
      "source": [
        "products_list = [15.89, 39.99, 82.10, 135.85, 318.90, 510.00, 799.98]\n",
        "def apply(x, function):\n",
        "    return function(x)\n",
        "\n",
        "new_prise=[]\n",
        "def new_pris(products_list):\n",
        "    new_prise = list(map(lambda i: round(i * 0.4, 2), products_list))\n",
        "    \n",
        "    return new_prise\n",
        "\n",
        "discount=[]\n",
        "def discoun(products_list):\n",
        "    discount = list(map(lambda i: round(i * 0.6, 2), products_list))\n",
        "    return discount\n",
        "\n",
        "\n",
        "for i, d in enumerate(products_list):\n",
        "    print(products_list[i], apply(products_list, new_pris)[i], apply(products_list, discoun)[i])\n",
        "\n",
        "print('products_list = ', products_list)"
      ]
    },
    {
      "cell_type": "markdown",
      "metadata": {},
      "source": [
        "### **Завдання 2 (2 бали)**\n",
        "\n",
        "Зазвичай рік має 365 днів. Однак у високосні роки додається ще один день - 29 лютого. Правила визначення високосного року такі:\n",
        "\n",
        "- Будь-який рік, що ділиться на 400 - високосний.\n",
        "\n",
        "- З тих років, що залишились, будь-який рік, що ділиться на 100 - **не** високосний.\n",
        "\n",
        "- З тих років, що залишились, будь-який рік, що ділиться на 4 - високосний.\n",
        "\n",
        "- Усі інші роки, що залишились - **не** високосні.\n",
        "\n",
        "1) Створіть функцію, в якій за допомогою вбудованих функцій вищих порядків будуть визначатися високосні роки серед перелічених років у списку years. Створена функція має повертати список високосних років.\n",
        "\n",
        "2) Створіть функцію вищих порядків, яка прийматиме на вхід попередню функцію та визначатиме кількість днів у місяці. Також функція повинна приймати на вхід ще 2 параметри: ціле число від 1 до 12 (місяць) та рік, як ціле чотирицифрове число. Ці значення корисувач має вводити з клавіатури. Перевірку введених даних слід виконувати поза межами функцій."
      ]
    },
    {
      "cell_type": "code",
      "execution_count": 7,
      "metadata": {},
      "outputs": [
        {
          "name": "stdout",
          "output_type": "stream",
          "text": [
            "All leap years =  [1904, 1908, 1912, 1916, 1920, 1924, 1928, 1932, 1936, 1940, 1944, 1948, 1952, 1956, 1960, 1964, 1968, 1972, 1976, 1980, 1984, 1988, 1992, 1996, 2000, 2004, 2008, 2012, 2016, 2020]\n",
            "2002 isn`t leap year\n",
            "Month has  31 days\n"
          ]
        }
      ],
      "source": [
        "import numpy as np\n",
        "\n",
        "years = np.arange(1900, 2020+1, 1)\n",
        "\n",
        "def type(years):\n",
        "    global leap_year\n",
        "    leap_year = list(filter(lambda year: (year % 400 == 0) or ((year % 100 != 0) and (year % 4 == 0)), years))\n",
        "    return leap_year\n",
        "\n",
        "def mount_len(month, year, leap_year):\n",
        "    global month_data\n",
        "    global month_data1    \n",
        "    month1 = [1, 3, 5, 7, 8, 10, 12]\n",
        "    month2 = [4, 6, 9, 11]\n",
        "    month3 = [2]\n",
        "    if month in month1:\n",
        "        month = 31\n",
        "    elif month in month2:\n",
        "        month = 30\n",
        "    elif month in month3:\n",
        "        if year in leap_year:\n",
        "            month = 29\n",
        "        else:\n",
        "            month = 28\n",
        "    return month\n",
        "\n",
        "\n",
        "try:\n",
        "    year_i = int(input('Enter a year: '))\n",
        "    month = int(input('Enter the number of month: '))\n",
        "    if year_i not in years:\n",
        "        print('No such year')\n",
        "    elif month not in range(1,13):\n",
        "        print('Мonth can be only from 1 to 12')\n",
        "    else: \n",
        "        print('All leap years = ', type(years))\n",
        "        #type(year_i)\n",
        "        if year_i in leap_year:\n",
        "            print(f'{year_i} is leap year')\n",
        "        else:\n",
        "            print(f'{year_i} isn`t leap year')\n",
        "        print('Month has ', mount_len(month, year_i, type(years)), 'days')    \n",
        "except ValueError:\n",
        "    print('You can only enter numbers')"
      ]
    }
  ],
  "metadata": {
    "colab": {
      "collapsed_sections": [],
      "name": "Practice_7_KM-01_.ipynb",
      "provenance": []
    },
    "kernelspec": {
      "display_name": "Python 3.11.0 64-bit",
      "language": "python",
      "name": "python3"
    },
    "language_info": {
      "codemirror_mode": {
        "name": "ipython",
        "version": 3
      },
      "file_extension": ".py",
      "mimetype": "text/x-python",
      "name": "python",
      "nbconvert_exporter": "python",
      "pygments_lexer": "ipython3",
      "version": "3.11.0"
    },
    "vscode": {
      "interpreter": {
        "hash": "8bde68e369923a8d8a3a54468edb454abeb1a942b8610a2d0d96d72cfd89a8c6"
      }
    }
  },
  "nbformat": 4,
  "nbformat_minor": 0
}
